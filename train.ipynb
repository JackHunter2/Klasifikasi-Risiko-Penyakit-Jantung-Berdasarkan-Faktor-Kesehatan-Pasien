{
 "cells": [
  {
   "cell_type": "code",
   "execution_count": 3,
   "id": "a7bf6a1d",
   "metadata": {},
   "outputs": [],
   "source": [
    "# 0. Import library\n",
    "import pandas as pd\n",
    "import numpy as np\n",
    "import matplotlib.pyplot as plt\n",
    "import seaborn as sns\n",
    "\n",
    "from sklearn.model_selection import train_test_split\n",
    "from sklearn.tree import DecisionTreeClassifier, plot_tree\n",
    "from sklearn.metrics import classification_report, confusion_matrix, accuracy_score\n",
    "from sklearn.preprocessing import OneHotEncoder, LabelEncoder, StandardScaler\n",
    "from sklearn.compose import ColumnTransformer\n",
    "from sklearn.pipeline import Pipeline\n",
    "import joblib"
   ]
  },
  {
   "cell_type": "code",
   "execution_count": 7,
   "id": "fa78e7ad",
   "metadata": {},
   "outputs": [
    {
     "ename": "SyntaxError",
     "evalue": "(unicode error) 'unicodeescape' codec can't decode bytes in position 2-3: truncated \\UXXXXXXXX escape (1032284168.py, line 2)",
     "output_type": "error",
     "traceback": [
      "  \u001b[36mCell\u001b[39m\u001b[36m \u001b[39m\u001b[32mIn[7]\u001b[39m\u001b[32m, line 2\u001b[39m\n\u001b[31m    \u001b[39m\u001b[31mdf = pd.read_csv('C:\\Users\\user\\Documents\\GitHub\\Klasifikasi-Risiko-Penyakit-Jantung-Berdasarkan-Faktor-Kesehatan-Pasien\\data\\heart.xls')\u001b[39m\n                     ^\n\u001b[31mSyntaxError\u001b[39m\u001b[31m:\u001b[39m (unicode error) 'unicodeescape' codec can't decode bytes in position 2-3: truncated \\UXXXXXXXX escape\n"
     ]
    }
   ],
   "source": [
    "# 1. Load dataset\n",
    "df = pd.read_csv('C:\\Users\\user\\Documents\\GitHub\\Klasifikasi-Risiko-Penyakit-Jantung-Berdasarkan-Faktor-Kesehatan-Pasien\\data\\heart.xls')\n",
    "display(df.shape)\n",
    "display(df.head())\n"
   ]
  },
  {
   "cell_type": "code",
   "execution_count": null,
   "id": "f8516c3c",
   "metadata": {},
   "outputs": [],
   "source": [
    "# 2. Quick info\n",
    "display(df.info())\n",
    "display(df.describe(include='all'))"
   ]
  },
  {
   "cell_type": "code",
   "execution_count": null,
   "id": "fb72606c",
   "metadata": {},
   "outputs": [],
   "source": [
    "# 3. Cek missing values\n",
    "print(\"Missing values per column:\\n\", df.isnull().sum())"
   ]
  },
  {
   "cell_type": "code",
   "execution_count": null,
   "id": "c0ea7805",
   "metadata": {},
   "outputs": [],
   "source": [
    "# 4. Visualisasi distribusi target\n",
    "plt.figure(figsize=(6,4))\n",
    "sns.countplot(x='target', data=df)\n",
    "plt.title('Distribusi Variabel Target (0 = Tidak, 1 = Berisiko)')\n",
    "plt.xlabel('target')\n",
    "plt.ylabel('count')\n",
    "plt.show()"
   ]
  },
  {
   "cell_type": "code",
   "execution_count": null,
   "id": "62ca69bc",
   "metadata": {},
   "outputs": [],
   "source": [
    "# 5. Exploratory plots: korelasi, beberapa fitur vs target\n",
    "plt.figure(figsize=(10,8))\n",
    "sns.heatmap(df.corr(), annot=True, fmt='.2f', cmap='coolwarm')\n",
    "plt.title('Correlation matrix')\n",
    "plt.show()\n",
    "\n",
    "# Contoh hubungan fitur numerik dengan target\n",
    "num_features = ['age','trestbps','chol','thalach']\n",
    "for f in num_features:\n",
    "    plt.figure(figsize=(6,3))\n",
    "    sns.boxplot(x='target', y=f, data=df)\n",
    "    plt.title(f'{f} vs target')\n",
    "    plt.show()"
   ]
  },
  {
   "cell_type": "code",
   "execution_count": null,
   "id": "da28fa35",
   "metadata": {},
   "outputs": [],
   "source": [
    "# 6. Pra-pemrosesan\n",
    "# a) Tentukan fitur numerik dan kategorikal (sesuaikan dataset)\n",
    "# contoh umum pada dataset heart:\n",
    "num_cols = ['age', 'trestbps', 'chol', 'thalach', 'oldpeak'] if 'oldpeak' in df.columns else ['age','trestbps','chol','thalach']\n",
    "cat_cols = [c for c in df.columns if c not in num_cols + ['target']]\n",
    "\n",
    "print(\"Numerical:\", num_cols)\n",
    "print(\"Categorical:\", cat_cols)\n",
    "\n",
    "# b) Tangani missing (jika ada)\n",
    "# Strategie sederhana: numeric -> median, categorical -> mode\n",
    "for c in num_cols:\n",
    "    if df[c].isnull().sum()>0:\n",
    "        df[c].fillna(df[c].median(), inplace=True)\n",
    "for c in cat_cols:\n",
    "    if df[c].isnull().sum()>0:\n",
    "        df[c].fillna(df[c].mode()[0], inplace=True)\n",
    "\n",
    "# c) Encoding: gunakan One-Hot untuk kategorikal nominal\n",
    "X = df.drop(columns=['target'])\n",
    "y = df['target']\n",
    "\n",
    "# Simpel pipeline\n",
    "preprocessor = ColumnTransformer(transformers=[\n",
    "    ('num', StandardScaler(), num_cols),\n",
    "    ('cat', OneHotEncoder(handle_unknown='ignore', sparse=False), cat_cols)\n",
    "])\n",
    "\n",
    "# d) Split\n",
    "X_train, X_test, y_train, y_test = train_test_split(X, y, test_size=0.2, stratify=y, random_state=42)\n",
    "\n",
    "# Fit preprocessor\n",
    "preprocessor.fit(X_train)\n",
    "X_train_p = pd.DataFrame(preprocessor.transform(X_train))\n",
    "X_test_p = pd.DataFrame(preprocessor.transform(X_test))\n",
    "\n",
    "print(\"Transformed shapes:\", X_train_p.shape, X_test_p.shape)"
   ]
  },
  {
   "cell_type": "code",
   "execution_count": null,
   "id": "75aba7db",
   "metadata": {},
   "outputs": [],
   "source": [
    "# 7. Model A: Decision Tree tanpa batas (overfit possible)\n",
    "modelA = DecisionTreeClassifier(random_state=42)\n",
    "modelA.fit(X_train_p, y_train)\n",
    "\n",
    "# Evaluasi Model A\n",
    "y_train_predA = modelA.predict(X_train_p)\n",
    "y_test_predA = modelA.predict(X_test_p)\n",
    "\n",
    "print(\"=== Model A (no restrictions) ===\")\n",
    "print(\"Train accuracy:\", accuracy_score(y_train, y_train_predA))\n",
    "print(\"Test accuracy:\", accuracy_score(y_test, y_test_predA))\n",
    "print(\"\\nClassification report (test):\\n\", classification_report(y_test, y_test_predA))\n",
    "print(\"Confusion matrix (test):\\n\", confusion_matrix(y_test, y_test_predA))"
   ]
  },
  {
   "cell_type": "code",
   "execution_count": null,
   "id": "4c9eea37",
   "metadata": {},
   "outputs": [],
   "source": [
    "# 8. Model B: pruned model (batasi depth)\n",
    "modelB = DecisionTreeClassifier(max_depth=4, min_samples_leaf=8, random_state=42)\n",
    "modelB.fit(X_train_p, y_train)\n",
    "\n",
    "# Evaluasi Model B\n",
    "y_train_predB = modelB.predict(X_train_p)\n",
    "y_test_predB = modelB.predict(X_test_p)\n",
    "\n",
    "print(\"\\n=== Model B (pruned) ===\")\n",
    "print(\"Train accuracy:\", accuracy_score(y_train, y_train_predB))\n",
    "print(\"Test accuracy:\", accuracy_score(y_test, y_test_predB))\n",
    "print(\"\\nClassification report (test):\\n\", classification_report(y_test, y_test_predB))\n",
    "print(\"Confusion matrix (test):\\n\", confusion_matrix(y_test, y_test_predB))\n"
   ]
  },
  {
   "cell_type": "code",
   "execution_count": null,
   "id": "c4848579",
   "metadata": {},
   "outputs": [],
   "source": [
    "# 9. Visualisasi pohon Model B\n",
    "plt.figure(figsize=(20,10))\n",
    "plot_tree(modelB, filled=True, feature_names=list(preprocessor.get_feature_names_out()), class_names=['No','Yes'], fontsize=10)\n",
    "plt.show()"
   ]
  },
  {
   "cell_type": "code",
   "execution_count": null,
   "id": "e93cb5cd",
   "metadata": {},
   "outputs": [],
   "source": [
    "# 10. Feature importances (Model B)\n",
    "importances = modelB.feature_importances_\n",
    "feat_names = list(preprocessor.get_feature_names_out())\n",
    "feat_df = pd.DataFrame({'feature': feat_names, 'importance': importances})\n",
    "feat_df = feat_df.sort_values('importance', ascending=False).head(15)\n",
    "\n",
    "plt.figure(figsize=(8,6))\n",
    "sns.barplot(x='importance', y='feature', data=feat_df)\n",
    "plt.title('Top 15 Feature Importances (Model B)')\n",
    "plt.show()"
   ]
  },
  {
   "cell_type": "code",
   "execution_count": null,
   "id": "6d4a559d",
   "metadata": {},
   "outputs": [],
   "source": [
    "# 11. Simpan model terbaik (ambil Model B)\n",
    "joblib.dump({\n",
    "    'preprocessor': preprocessor,\n",
    "    'model': modelB\n",
    "}, 'dt_heart_pipeline.joblib')\n",
    "\n",
    "print(\"Model saved as dt_heart_pipeline.joblib\")"
   ]
  }
 ],
 "metadata": {
  "kernelspec": {
   "display_name": "Python 3",
   "language": "python",
   "name": "python3"
  },
  "language_info": {
   "codemirror_mode": {
    "name": "ipython",
    "version": 3
   },
   "file_extension": ".py",
   "mimetype": "text/x-python",
   "name": "python",
   "nbconvert_exporter": "python",
   "pygments_lexer": "ipython3",
   "version": "3.13.1"
  }
 },
 "nbformat": 4,
 "nbformat_minor": 5
}
